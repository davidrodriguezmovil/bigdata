{
 "cells": [
  {
   "cell_type": "markdown",
   "id": "19c1ddf3-564d-4cde-8602-102cb6fae691",
   "metadata": {},
   "source": [
    "# Descargar noticias de un medio digital"
   ]
  },
  {
   "cell_type": "markdown",
   "id": "394da975-434f-4978-9896-d85cea48de51",
   "metadata": {},
   "source": [
    "En esta práctica vamos a descargar los titulares de las noticias de un medio de comunicación digital"
   ]
  },
  {
   "cell_type": "markdown",
   "id": "2f9a3fa9-96d5-46a0-8f55-0fe7febd3166",
   "metadata": {},
   "source": [
    "## Importar las librerías que necesitaremos\n",
    "\n",
    "Vamos a utilizar urllib3 y Beautiful Soup"
   ]
  },
  {
   "cell_type": "markdown",
   "metadata": {},
   "source": [
    "    conda install beautifulsoup4 urllib3 nltk"
   ]
  },
  {
   "cell_type": "code",
   "execution_count": null,
   "id": "3196317c-3b41-44f6-90e2-508366601007",
   "metadata": {},
   "outputs": [],
   "source": [
    "#!/usr/bin/env python\n",
    "\n",
    "import urllib3, nltk\n",
    "from bs4 import BeautifulSoup"
   ]
  },
  {
   "cell_type": "markdown",
   "id": "82861506-9319-4d0d-b49f-0f9e4e429d7f",
   "metadata": {},
   "source": [
    "## Descargar la página\n",
    "\n",
    "Emplearemos un UserAgent (navegador) de móvil para identificarnos con la página"
   ]
  },
  {
   "cell_type": "code",
   "execution_count": null,
   "id": "7e19f905-8792-4c0c-9986-73b7c654d2f4",
   "metadata": {},
   "outputs": [],
   "source": [
    "ua = \"Mozilla/5.0 (Linux; U; Android 2.2; en-us; Nexus One Build/FRF91) AppleWebKit/533.1 (KHTML, like Gecko) Version/4.0 Mobile Safari/533.1\"  \n",
    "h = {\"User-Agent\": ua}\n",
    "\n",
    "http = urllib3.PoolManager()\n",
    "#medioDigital= \"http://20minutos.es\"\n",
    "#medioDigital= \"http://www.elpais.com\"\n",
    "#medioDigital= \"http://www.elmundo.es\"\n",
    "medioDigital= \"http://www.lavozdegalicia.es\"\n",
    "r = http.request('GET', medioDigital, fields=None, headers=h)\n"
   ]
  },
  {
   "cell_type": "markdown",
   "id": "1700dceb-0991-48f6-b9cf-11ca547adca0",
   "metadata": {},
   "source": [
    "## Quitar código HTML"
   ]
  },
  {
   "cell_type": "code",
   "execution_count": null,
   "id": "74c88111-cfd5-452b-a10b-a19830ec6c96",
   "metadata": {},
   "outputs": [],
   "source": [
    "sopa = BeautifulSoup(r.data, \"html.parser\")\n",
    "web_solotexto = sopa.get_text()\n",
    "\n",
    "salida = ''\n",
    "#excluirlineas=4\n",
    "\n",
    "for linea in web_solotexto.split('\\n'):\n",
    "    aux=linea.strip()\n",
    "    if aux and len(aux) > 50:\n",
    "        salida += aux + '\\n'\n",
    "        #if not aux.startswith('Comentarios ('):\n",
    "        #    excluirlineas=excluirlineas-1\n",
    "        #    if (excluirlineas < 0):\n",
    "        #        vartext2 = vartext2 + aux + '\\n'\n",
    "\n",
    "print (salida)\n",
    "\n",
    "#Otra forma, quizás más elegante:\n",
    "titulares = sopa.find_all('h4')\n",
    "\n",
    "for titular in titulares:\n",
    "    print(titular.get_text().strip())"
   ]
  },
  {
   "cell_type": "code",
   "execution_count": null,
   "id": "051a1a02-f3dd-4822-8000-4e65ee084994",
   "metadata": {},
   "outputs": [],
   "source": []
  }
 ],
 "metadata": {
  "kernelspec": {
   "display_name": "bigdata",
   "language": "python",
   "name": "python3"
  },
  "language_info": {
   "codemirror_mode": {
    "name": "ipython",
    "version": 3
   },
   "file_extension": ".py",
   "mimetype": "text/x-python",
   "name": "python",
   "nbconvert_exporter": "python",
   "pygments_lexer": "ipython3",
   "version": "3.11.13"
  }
 },
 "nbformat": 4,
 "nbformat_minor": 5
}
